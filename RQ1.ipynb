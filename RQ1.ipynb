{
 "cells": [
  {
   "cell_type": "markdown",
   "id": "b59d66ebbb082d08",
   "metadata": {
    "collapsed": false
   },
   "source": [
    "# RQ1 - How frequent are pseudo-tested elements?\n",
    "\n",
    "Notebook to extract and present the data used to answer RQ1. "
   ]
  },
  {
   "cell_type": "code",
   "execution_count": 2,
   "id": "initial_id",
   "metadata": {
    "ExecuteTime": {
     "end_time": "2024-04-06T13:33:34.159227Z",
     "start_time": "2024-04-06T13:33:34.123637Z"
    },
    "collapsed": true
   },
   "outputs": [],
   "source": [
    "import pandas as pd\n",
    "from matplotlib import pyplot as plt\n",
    "import seaborn as sns\n",
    "\n",
    "sns.color_palette()\n",
    "sns.set_theme()\n",
    "sns.set_style(\"whitegrid\")\n",
    "sns.set_context(\"paper\")\n",
    "\n",
    "df_1 = pd.read_csv(\"output-data/1-class-summary-data.csv\")"
   ]
  },
  {
   "cell_type": "markdown",
   "id": "a26a2f776cc77505",
   "metadata": {
    "collapsed": false
   },
   "source": [
    "Create `Table II` (Output to a file for full table code)"
   ]
  },
  {
   "cell_type": "code",
   "execution_count": null,
   "id": "86ff3fe077a04448",
   "metadata": {
    "ExecuteTime": {
     "end_time": "2024-04-06T13:33:34.223738Z",
     "start_time": "2024-04-06T13:33:34.162969Z"
    },
    "collapsed": false
   },
   "outputs": [],
   "source": [
    "df_subject_table = (df_1[[\"Subject Name\", \"Methods # not-cov\", \"Methods # req\", \"Methods # pseudo\", \"Methods #\",\"Statements # not-cov\", \"Statements # req\", \"Statements # pseudo\",\"Statements # PTSIRM\",  \"Statements #\"]].groupby('Subject Name').agg('sum'))\n",
    "\n",
    "df_subject_table.sort_values(by='Subject Name', inplace=True, key=lambda col: col.str.lower())\n",
    "\n",
    "df_subject_table[\"BarMethods\"] = \"\"\n",
    "df_subject_table[\"BarStatements\"] = \"\"\n",
    "\n",
    "median = df_subject_table.median()\n",
    "max = df_subject_table.max()\n",
    "min = df_subject_table.min()\n",
    "total = df_subject_table.sum()\n",
    "\n",
    "df_subject_table.loc[\"Median\"] = median\n",
    "df_subject_table.loc[\"Max\"] = max\n",
    "df_subject_table.loc[\"Min\"] = min\n",
    "df_subject_table.loc[\"Total\"] = total\n",
    "\n",
    "for ind in df_subject_table.index:\n",
    "    # Methods Bar\n",
    "    not_cov_method = df_subject_table[\"Methods # not-cov\"][ind] / df_subject_table[\"Methods #\"][ind] * 100\n",
    "    req_method = df_subject_table[\"Methods # req\"][ind] / df_subject_table[\"Methods #\"][ind] * 100\n",
    "    pseudo_method = df_subject_table[\"Methods # pseudo\"][ind] / df_subject_table[\"Methods #\"][ind] * 100\n",
    "    df_subject_table[\"BarMethods\"][ind] = \"\\percentbar{%f}{%f}{%f}\" % (not_cov_method, req_method, pseudo_method)\n",
    "    df_subject_table[\"BarMethods\"][\"Median\"] = \"\"\n",
    "    df_subject_table[\"BarMethods\"][\"Total\"] = \"\"\n",
    "    df_subject_table[\"BarMethods\"][\"Max\"] = \"\"\n",
    "    df_subject_table[\"BarMethods\"][\"Min\"] = \"\"\n",
    "\n",
    "    # Statements Bar\n",
    "    not_cov = df_subject_table[\"Statements # not-cov\"][ind] / df_subject_table[\"Statements #\"][ind] * 100\n",
    "    req = df_subject_table[\"Statements # req\"][ind] / df_subject_table[\"Statements #\"][ind] * 100\n",
    "    pseudo = df_subject_table[\"Statements # pseudo\"][ind] / df_subject_table[\"Statements #\"][ind] * 100\n",
    "    df_subject_table[\"BarStatements\"][ind] = \"\\percentbar{%f}{%f}{%f}\" % (not_cov, req, pseudo)\n",
    "    df_subject_table[\"BarStatements\"][\"Median\"] = \"\"\n",
    "    df_subject_table[\"BarStatements\"][\"Total\"] = \"\"\n",
    "    df_subject_table[\"BarStatements\"][\"Max\"] = \"\"\n",
    "    df_subject_table[\"BarStatements\"][\"Min\"] = \"\"\n",
    "    \n",
    "    print(ind ,\"            \", req_method + pseudo_method,\"% method covered | \", req + pseudo,\"% stmt covered\")\n",
    "\n",
    "not_cov_method = df_subject_table[\"Methods # not-cov\"][\"Total\"] / df_subject_table[\"Methods #\"][\"Total\"] * 100\n",
    "req_method = df_subject_table[\"Methods # req\"][\"Total\"] / df_subject_table[\"Methods #\"][\"Total\"] * 100\n",
    "pseudo_method = df_subject_table[\"Methods # pseudo\"][\"Total\"] / df_subject_table[\"Methods #\"][\"Total\"] * 100\n",
    "df_subject_table[\"BarMethods\"][\"Total\"] = \"\\percentbar{%f}{%f}{%f}\" % (not_cov_method, req_method, pseudo_method)\n",
    "not_cov = df_subject_table[\"Statements # not-cov\"][\"Total\"] / df_subject_table[\"Statements #\"][\"Total\"] * 100\n",
    "req = df_subject_table[\"Statements # req\"][\"Total\"] / df_subject_table[\"Statements #\"][\"Total\"] * 100\n",
    "pseudo = df_subject_table[\"Statements # pseudo\"][\"Total\"] / df_subject_table[\"Statements #\"][\"Total\"] * 100\n",
    "df_subject_table[\"BarStatements\"][\"Total\"] = \"\\percentbar{%f}{%f}{%f}\" % (not_cov, req, pseudo)\n",
    "df_subject_table.reset_index( inplace=True)\n",
    "\n",
    "\n",
    "print(df_subject_table.to_latex(header=False, escape=False, multirow=False, index=False,\n",
    "                                           columns=[\"Subject Name\", \"Methods # not-cov\", \"Methods # req\", \"Methods # pseudo\", \"Methods #\",\"BarMethods\",\"Statements # not-cov\", \"Statements # req\",\"Statements # pseudo\", \"Statements # PTSIRM\" , \"Statements #\",\"BarStatements\"]))"
   ]
  }
 ],
 "metadata": {
  "kernelspec": {
   "display_name": "Python 3",
   "language": "python",
   "name": "python3"
  },
  "language_info": {
   "codemirror_mode": {
    "name": "ipython",
    "version": 3
   },
   "file_extension": ".py",
   "mimetype": "text/x-python",
   "name": "python",
   "nbconvert_exporter": "python",
   "pygments_lexer": "ipython3",
   "version": "3.11.3"
  }
 },
 "nbformat": 4,
 "nbformat_minor": 5
}
