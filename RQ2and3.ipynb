{
 "cells": [
  {
   "cell_type": "markdown",
   "id": "33880c7c380aced",
   "metadata": {
    "collapsed": false
   },
   "source": [
    "# RQ2 and RQ3\n",
    "\n",
    "- RQ2: Do pseudo-tested elements have low mutation scores?\n",
    "- RQ3: Does PIT's default operator set highlight deficient testing with respect to pseudo-tested elements?\n",
    "\n",
    "Notebook to extract and present data used to answer RQ2 and RQ3. "
   ]
  },
  {
   "cell_type": "code",
   "execution_count": 31,
   "id": "initial_id",
   "metadata": {
    "ExecuteTime": {
     "end_time": "2024-09-06T11:06:03.574414Z",
     "start_time": "2024-09-06T11:06:03.502277Z"
    },
    "collapsed": true
   },
   "outputs": [],
   "source": [
    "import pandas as pd\n",
    "from matplotlib import pyplot as plt\n",
    "import seaborn as sns\n",
    "\n",
    "sns.color_palette()\n",
    "sns.set_theme()\n",
    "sns.set_style(\"whitegrid\")\n",
    "sns.set_context(\"paper\")\n",
    "\n",
    "df_2 = pd.read_csv(\"output-data/2-method-summary-data.csv\")\n",
    "df_3 = pd.read_csv(\"output-data/3-statement-summary-data.csv\")"
   ]
  },
  {
   "cell_type": "code",
   "execution_count": 32,
   "id": "5aaa92a41207aaa1",
   "metadata": {
    "ExecuteTime": {
     "end_time": "2024-09-06T11:06:03.581281Z",
     "start_time": "2024-09-06T11:06:03.576411Z"
    },
    "collapsed": false
   },
   "outputs": [],
   "source": [
    "def set_short_names(long_names):\n",
    "    name_dict = {\n",
    "        \"chronometrophobia\": \"chronometrophobia\",\n",
    "        \"pm-persistence-utils\": \"pmpersistence\",\n",
    "        \"commons-codec\": \"commons-codec\",\n",
    "        \"jena.serializer\": \"jena.serializer\",\n",
    "        \"wildfly-swarm-spi\": \"wildfly-swarm-spi\",\n",
    "        \"beanunit\": \"beanunit\",\n",
    "        \"kafka-common-lib\": \"kafka-common-lib\",\n",
    "        \"commons-csv\": \"commons-csv\",\n",
    "        \"commons-math-3.6.1\": \"commons-math\",\n",
    "        \"authlete-jose\": \"authlete-jose\",\n",
    "        \"chardet4j\": \"chardet4j\",\n",
    "        \"java-json-canonicalization\": \"json-canonicalization\",\n",
    "        \"payload-offloading-java-common-lib-for-aws\": \"payload-off-loading\",\n",
    "        \"smartbill-java-client\": \"smartbill-client\",\n",
    "        \"solr-cmd-utils\": \"solr-cmd-utils\",\n",
    "        \"marine\": \"marine\",\n",
    "        \"commons-cli\": \"commons-cli\",\n",
    "        \"f3270\": \"f3270\",\n",
    "        \"Xml-Region-Analyzer\": \"xml-region-analyzer\",\n",
    "        \"asw4j\": \"asw4j\",\n",
    "        \"coodoo-listing\": \"coodoo-listing\",\n",
    "        \"lib-logger\": \"lib-logger\",\n",
    "        \"SequencePattern\": \"sequencepattern\",\n",
    "        \"data-conjuror\": \"data-conjuror\",\n",
    "        \"jargser\": \"jargser\",\n",
    "        \"wcomponents-sass-compiler\": \"wcomponents-compiler\",\n",
    "        \"ext4logback\": \"ext4logback\"\n",
    "    }\n",
    "    long_names.replace(name_dict, inplace=True)\n",
    "    return long_names"
   ]
  },
  {
   "cell_type": "markdown",
   "id": "563fbb12",
   "metadata": {},
   "source": [
    "Data used in `Table III`."
   ]
  },
  {
   "cell_type": "code",
   "execution_count": null,
   "id": "6f98b84ea7b4d9ed",
   "metadata": {
    "ExecuteTime": {
     "end_time": "2024-09-06T11:06:03.683777Z",
     "start_time": "2024-09-06T11:06:03.662183Z"
    },
    "collapsed": false
   },
   "outputs": [],
   "source": [
    "df = df_2\n",
    "\n",
    "data = []\n",
    "\n",
    "print(\"REQUIRED METHODS\")\n",
    "required_methods = df[df['Method Classification'] == \"REQUIRED\"]\n",
    "required_methods_mutants = required_methods[\"# PIT mutants\"].sum()\n",
    "required_methods_mutants_killed = required_methods[\"# PIT mutants killed\"].sum()\n",
    "required_methods_mutant_score = required_methods_mutants_killed / required_methods_mutants\n",
    "print(\"# Mutants\\t\", required_methods_mutants)\n",
    "print(\"# Mutants Killed\\t\", required_methods_mutants_killed)\n",
    "print(\"MS for required methods:\\t\", '{:.2%}'.format(required_methods_mutant_score))\n",
    "data.append([\"Required Methods\", len(required_methods.index), required_methods_mutants, required_methods_mutants_killed,\n",
    "             required_methods_mutant_score])\n",
    "\n",
    "print(\"\\nPSEUDO-TESTED METHODS\")\n",
    "pseudo_tested_methods = df[df['Method Classification'] == \"PSEUDO-TESTED\"]\n",
    "pseudo_tested_methods_mutants = pseudo_tested_methods[\"# PIT mutants\"].sum()\n",
    "pseudo_tested_methods_mutants_killed = pseudo_tested_methods[\"# PIT mutants killed\"].sum()\n",
    "pseudo_tested_methods_mutant_score = pseudo_tested_methods_mutants_killed / pseudo_tested_methods_mutants\n",
    "print(\"# Mutants\\t\", pseudo_tested_methods_mutants)\n",
    "print(\"# Mutants Killed\\t\", pseudo_tested_methods_mutants_killed)\n",
    "print(\"MS for pseudo-tested methods:\\t\", '{:.2%}'.format(pseudo_tested_methods_mutant_score))\n",
    "data.append([\"Pseudo-tested Methods\", len(pseudo_tested_methods.index), pseudo_tested_methods_mutants,\n",
    "             pseudo_tested_methods_mutants_killed, pseudo_tested_methods_mutant_score])\n",
    "\n",
    "print(\"\\nNOT-COVERED METHODS\")\n",
    "not_covered_methods = df[df['Method Classification'] == \"NOT-COVERED\"]\n",
    "not_covered_methods_mutants = not_covered_methods[\"# PIT mutants\"].sum()\n",
    "not_covered_methods_mutants_killed = not_covered_methods[\"# PIT mutants killed\"].sum()\n",
    "not_covered_methods_mutant_score = not_covered_methods_mutants_killed / not_covered_methods_mutants\n",
    "print(\"# Mutants\\t\", not_covered_methods_mutants)\n",
    "print(\"# Mutants Killed\\t\", not_covered_methods_mutants_killed)\n",
    "print(\"MS for pseudo-tested methods:\\t\", '{:.2%}'.format(not_covered_methods_mutant_score))\n",
    "data.append(\n",
    "    [\"Not covered Methods\",len( not_covered_methods.index), not_covered_methods_mutants, not_covered_methods_mutants_killed,\n",
    "     not_covered_methods_mutant_score])\n",
    "\n",
    "df = df_3\n",
    "print(\"\\nREQUIRED STATEMENTS\")\n",
    "required_statements = df[df['Statement Classification'] == \"REQUIRED\"]\n",
    "required_statements_mutants = required_statements[\"# PIT mutants\"].sum()\n",
    "required_statements_mutants_killed = required_statements[\"# PIT mutants killed\"].sum()\n",
    "required_statements_mutant_score = required_statements_mutants_killed / required_statements_mutants\n",
    "print(\"# Mutants\\t\", required_statements_mutants)\n",
    "print(\"# Mutants Killed\\t\", required_statements_mutants_killed)\n",
    "print(\"MS for required statements:\\t\", '{:.2%}'.format(required_statements_mutant_score))\n",
    "data.append(\n",
    "    [\"Required Statements\", len(required_statements.index), required_statements_mutants, required_statements_mutants_killed,\n",
    "     required_statements_mutant_score])\n",
    "\n",
    "print(\"\\nPSEUDO-TESTED STATEMENTS\")\n",
    "pseudo_tested_statements = df.loc[\n",
    "    (df['Statement Classification'] == \"PSEUDO-TESTED\") | (df['Statement Classification'] == \"PiR\")]\n",
    "pseudo_tested_statements_mutants = pseudo_tested_statements[\"# PIT mutants\"].sum()\n",
    "pseudo_tested_statements_mutants_killed = pseudo_tested_statements[\"# PIT mutants killed\"].sum()\n",
    "pseudo_tested_statements_mutant_score = pseudo_tested_statements_mutants_killed / pseudo_tested_statements_mutants\n",
    "print(\"# Mutants\\t\", pseudo_tested_statements_mutants)\n",
    "print(\"# Mutants Killed\\t\", pseudo_tested_statements_mutants_killed)\n",
    "print(\"MS for pseudo-tested statements:\\t\", '{:.2%}'.format(pseudo_tested_statements_mutant_score))\n",
    "data.append(\n",
    "    [\"Pseudo-tested Statements\", len(pseudo_tested_statements.index), pseudo_tested_statements_mutants, pseudo_tested_statements_mutants_killed,\n",
    "     pseudo_tested_statements_mutant_score])\n",
    "\n",
    "print(\"\\nPiR STATEMENTS\")\n",
    "pseudo_tested_statements = df[df['Statement Classification'] == \"PiR\"]\n",
    "pseudo_tested_statements_mutants = pseudo_tested_statements[\"# PIT mutants\"].sum()\n",
    "pseudo_tested_statements_mutants_killed = pseudo_tested_statements[\"# PIT mutants killed\"].sum()\n",
    "pseudo_tested_statements_mutant_score = pseudo_tested_statements_mutants_killed / pseudo_tested_statements_mutants\n",
    "print(\"# Mutants\\t\", pseudo_tested_statements_mutants)\n",
    "print(\"# Mutants Killed\\t\", pseudo_tested_statements_mutants_killed)\n",
    "print(\"MS for pseudo-tested statements:\\t\", '{:.2%}'.format(pseudo_tested_statements_mutant_score))\n",
    "data.append(\n",
    "    [\"PiR Statements\", len(pseudo_tested_statements.index), pseudo_tested_statements_mutants, pseudo_tested_statements_mutants_killed,\n",
    "     pseudo_tested_statements_mutant_score])\n",
    "\n",
    "print(\"\\nNOT-COVERED STATEMENTS\")\n",
    "not_covered_statements = df[df['Statement Classification'] == \"NOT-COVERED\"]\n",
    "not_covered_statements_mutants = not_covered_statements[\"# PIT mutants\"].sum()\n",
    "not_covered_statements_mutants_killed = not_covered_statements[\"# PIT mutants killed\"].sum()\n",
    "not_covered_statements_mutant_score = not_covered_statements_mutants_killed / not_covered_statements_mutants\n",
    "print(\"# Mutants\\t\", not_covered_statements_mutants)\n",
    "print(\"# Mutants Killed\\t\", not_covered_statements_mutants_killed)\n",
    "print(\"MS for pseudo-tested statements:\\t\", '{:.2%}'.format(not_covered_statements_mutant_score))\n",
    "data.append(\n",
    "    [\"Not covered Statements\",len( not_covered_statements.index), not_covered_statements_mutants, not_covered_statements_mutants_killed,\n",
    "     not_covered_statements_mutant_score])\n",
    "\n",
    "\n",
    "df_mutants = pd.DataFrame(data, columns=['Element Classification', '# Elements', '# Mutants', '# M_Killed', 'M_Score'])\n",
    "print(df_mutants.to_latex(index=False))"
   ]
  },
  {
   "cell_type": "markdown",
   "id": "5fc434e0",
   "metadata": {},
   "source": [
    "Plot data for `Fig I`."
   ]
  },
  {
   "cell_type": "code",
   "execution_count": null,
   "id": "498f066330501e51",
   "metadata": {
    "ExecuteTime": {
     "end_time": "2024-09-06T11:06:03.901188Z",
     "start_time": "2024-09-06T11:06:03.682802Z"
    }
   },
   "outputs": [],
   "source": [
    "required = df_2[df_2[\"Method Classification\"] == \"REQUIRED\"].filter(\n",
    "    items=[\"Subject Name\", \"# PIT mutants\", \"# PIT mutants killed\"]).groupby('Subject Name').agg(\n",
    "    'sum').reset_index()\n",
    "\n",
    "\n",
    "required.sort_values(by='Subject Name', inplace=True, key=lambda col: col.str.lower())\n",
    "pseudo = df_2[df_2[\"Method Classification\"] == \"PSEUDO-TESTED\"].filter(\n",
    "    items=[\"Subject Name\", \"# PIT mutants\", \"# PIT mutants killed\"]).groupby('Subject Name').agg(\n",
    "    'sum').reset_index()\n",
    "pseudo.sort_values(by='Subject Name', inplace=True, key=lambda col: col.str.lower())\n",
    "required = set_short_names(required)\n",
    "pseudo = set_short_names(pseudo)\n",
    "pseudo.drop(pseudo[pseudo[\"# PIT mutants\"] == 0].index, inplace=True)\n",
    "required.drop(required[required[\"# PIT mutants\"] == 0].index, inplace=True)\n",
    "\n",
    "required = required[required[\"Subject Name\"].isin(pseudo[\"Subject Name\"].values)]\n",
    "pseudo = pseudo[pseudo[\"Subject Name\"].isin(required[\"Subject Name\"].values)]\n",
    "\n",
    "ax = sns.scatterplot(x=required[\"Subject Name\"], y=required[\"# PIT mutants killed\"] / required[\"# PIT mutants\"], marker='s', c='black', label='Required')\n",
    "sns.scatterplot(x=pseudo[\"Subject Name\"], y=pseudo[\"# PIT mutants killed\"] / pseudo[\"# PIT mutants\"], marker='x', c='black', label='Pseudo-tested')\n",
    "ax.set_xticklabels(ax.get_xticklabels(), rotation=35, ha=\"right\")\n",
    "\n",
    "plt.xticks(rotation=40)\n",
    "plt.ylabel(\"Mutation Score\")\n",
    "plt.legend()\n",
    "plt.title('Mutation score for mutants inside pseudo-tested and required methods')\n",
    "plt.show()"
   ]
  },
  {
   "cell_type": "markdown",
   "id": "d07013fa",
   "metadata": {},
   "source": [
    "Plot data used for `Fig II`. "
   ]
  },
  {
   "cell_type": "code",
   "execution_count": null,
   "id": "fdc98d24314a687",
   "metadata": {
    "ExecuteTime": {
     "end_time": "2024-09-06T11:06:04.042790Z",
     "start_time": "2024-09-06T11:06:03.889330Z"
    },
    "collapsed": false
   },
   "outputs": [],
   "source": [
    "required = df_3[df_3[\"Statement Classification\"] == \"REQUIRED\"].filter(items=[\"Subject Name\", \"# PIT mutants\", \"# PIT mutants killed\"]).groupby('Subject Name').agg('sum').reset_index()\n",
    "required.sort_values(by='Subject Name', inplace=True, key=lambda col: col.str.lower())\n",
    "\n",
    "pseudo = df_3[df_3[\"Statement Classification\"] == \"PiR\"].filter(\n",
    "    items=[\"Subject Name\", \"# PIT mutants\", \"# PIT mutants killed\"]).groupby('Subject Name').agg(\n",
    "    'sum').reset_index()\n",
    "pseudo.sort_values(by='Subject Name', inplace=True, key=lambda col: col.str.lower())\n",
    "\n",
    "pseudo.drop(pseudo[pseudo[\"# PIT mutants\"] == 0].index, inplace=True)\n",
    "required.drop(required[required[\"# PIT mutants\"] == 0].index, inplace=True)\n",
    "\n",
    "required = required[required[\"Subject Name\"].isin(pseudo[\"Subject Name\"].values)]\n",
    "pseudo = pseudo[pseudo[\"Subject Name\"].isin(required[\"Subject Name\"].values)]\n",
    "\n",
    "required = set_short_names(required)\n",
    "pseudo = set_short_names(pseudo)\n",
    "\n",
    "sns.scatterplot(x=required[\"Subject Name\"], y=required[\"# PIT mutants killed\"] / required[\"# PIT mutants\"], marker='s',\n",
    "                c='black', label='Required')\n",
    "ax2 = sns.scatterplot(x=pseudo[\"Subject Name\"], y=pseudo[\"# PIT mutants killed\"] / pseudo[\"# PIT mutants\"], marker='x',\n",
    "                c='black', label='PiR')\n",
    "ax2.set_xticklabels(ax2.get_xticklabels(), rotation=35, ha=\"right\")\n",
    "\n",
    "plt.ylabel(\"Mutation Score\")\n",
    "plt.title('Mutation score for mutants inside PiR and required statements')\n",
    "plt.show()\n"
   ]
  },
  {
   "cell_type": "markdown",
   "id": "879030dc",
   "metadata": {},
   "source": [
    "Create `Table IV`."
   ]
  },
  {
   "cell_type": "code",
   "execution_count": null,
   "id": "f9f731b847775262",
   "metadata": {
    "ExecuteTime": {
     "end_time": "2024-09-06T11:06:04.516836Z",
     "start_time": "2024-09-06T11:06:04.478044Z"
    },
    "collapsed": false
   },
   "outputs": [],
   "source": [
    "\n",
    "pd.options.display.float_format = \"{:,.2f}\".format\n",
    "statement_type = (df_3[[r\"Statement Type\" , r\"# PIT mutants\", r\"# PIT mutants killed\"]].groupby('Statement Type').agg('sum'))\n",
    "\n",
    "# All Values\n",
    "statement_type[\"All #\"] = (df_3[[r\"Statement Type\"]].groupby('Statement Type').size())\n",
    "statement_type[\"Mutation Score\"] = statement_type[\"# PIT mutants killed\"] / statement_type[\"# PIT mutants\"] * 100\n",
    "# PiR Values\n",
    "statement_type[\"PiR #\"] = (df_3[df_3[r\"Statement Classification\"]==\"PiR\"].groupby(\"Statement Type\")).agg('count')[\"Statement Classification\"]\n",
    "statement_type[\"PiR # PIT mutants\"] = (df_3[df_3[r\"Statement Classification\"]==\"PiR\"].groupby(\"Statement Type\")).agg('sum')[\"# PIT mutants\"]\n",
    "statement_type[\"PiR # PIT mutants killed\"] = (df_3[df_3[r\"Statement Classification\"]==\"PiR\"].groupby(\"Statement Type\")).agg('sum')[\"# PIT mutants killed\"]\n",
    "statement_type[\"PiR Mutation Score\"] = statement_type[\"PiR # PIT mutants killed\"] / statement_type[\"PiR # PIT mutants\"] * 100\n",
    "\n",
    "# Output\n",
    "statement_type.reset_index(inplace=True)\n",
    "print(statement_type.to_latex(header=True, multirow=False, index=False,\n",
    "                              columns=[\"Statement Type\", \"All #\", \"# PIT mutants\", \"# PIT mutants killed\", \"Mutation Score\",\n",
    "                                        \"PiR #\", \"PiR # PIT mutants\", \"PiR # PIT mutants killed\", \"PiR Mutation Score\"]))"
   ]
  }
 ],
 "metadata": {
  "kernelspec": {
   "display_name": "Python 3",
   "language": "python",
   "name": "python3"
  },
  "language_info": {
   "codemirror_mode": {
    "name": "ipython",
    "version": 3
   },
   "file_extension": ".py",
   "mimetype": "text/x-python",
   "name": "python",
   "nbconvert_exporter": "python",
   "pygments_lexer": "ipython3",
   "version": "3.11.3"
  }
 },
 "nbformat": 4,
 "nbformat_minor": 5
}
