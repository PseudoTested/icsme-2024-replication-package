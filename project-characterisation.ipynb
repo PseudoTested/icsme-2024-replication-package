{
 "cells": [
  {
   "cell_type": "markdown",
   "id": "d1f4146543d422dc",
   "metadata": {
    "collapsed": false
   },
   "source": [
    "# Project Characterisation\n",
    "\n",
    "Notebook to extract the data used to characterise the project set and create\n",
    "`Table I`."
   ]
  },
  {
   "cell_type": "code",
   "execution_count": 1,
   "id": "initial_id",
   "metadata": {
    "ExecuteTime": {
     "end_time": "2024-04-05T14:14:20.440275Z",
     "start_time": "2024-04-05T14:14:20.411266Z"
    },
    "collapsed": true
   },
   "outputs": [],
   "source": [
    "import pandas as pd\n",
    "from matplotlib import pyplot as plt\n",
    "import seaborn as sns\n",
    "\n",
    "sns.color_palette()\n",
    "sns.set_theme()\n",
    "sns.set_style(\"whitegrid\")\n",
    "sns.set_context(\"paper\")\n",
    "\n",
    "df_0 = pd.read_csv(\"output-data/0-subject-summary-data.csv\")"
   ]
  },
  {
   "cell_type": "markdown",
   "id": "681b2531",
   "metadata": {},
   "source": [
    "Create `Table I`."
   ]
  },
  {
   "cell_type": "code",
   "execution_count": null,
   "id": "50a7cb50a6868dd1",
   "metadata": {
    "ExecuteTime": {
     "end_time": "2024-04-05T14:14:20.459220Z",
     "start_time": "2024-04-05T14:14:20.442924Z"
    },
    "collapsed": false
   },
   "outputs": [],
   "source": [
    "subject_names = df_0\n",
    "\n",
    "subject_names.sort_values(by='Subject Name', inplace=True, key=lambda col: col.str.lower())\n",
    "\n",
    "median = subject_names.median()\n",
    "max = subject_names.max()\n",
    "min = subject_names.min()\n",
    "total = subject_names.sum()\n",
    "\n",
    "subject_names.loc[\"Median\"] = median\n",
    "subject_names.loc[\"Max\"] = max\n",
    "subject_names.loc[\"Min\"] = min\n",
    "subject_names.loc[\"Total\"] = total\n",
    "subject_names[\"Subject Name\"][\"Total\"] = \"Total\"\n",
    "subject_names[\"Subject Name\"][\"Max\"] = \"Max\"\n",
    "subject_names[\"Subject Name\"][\"Min\"] = \"Min\"\n",
    "subject_names[\"Subject Name\"][\"Median\"] = \"Median\"\n",
    "subject_names[\"Git hash\"][\"Total\"] = \"-\"\n",
    "subject_names[\"Git hash\"][\"Max\"] = \"-\"\n",
    "subject_names[\"Git hash\"][\"Min\"] = \"-\"\n",
    "subject_names[\"Git hash\"][\"Median\"] = \"-\"\n",
    "\n",
    "print(subject_names.to_latex(index=False, header=False,columns=[\"Subject Name\", \"Methods #\", \"Statements #\", \"Test #\",\"Assertion #\", \"PIT Mutants #\"]))"
   ]
  },
  {
   "cell_type": "markdown",
   "id": "d45c53a0",
   "metadata": {},
   "source": [
    "Data for `% BCOV`, `% LCOV` and `% SCOV` was added to the table manually. "
   ]
  }
 ],
 "metadata": {
  "kernelspec": {
   "display_name": "Python 3",
   "language": "python",
   "name": "python3"
  },
  "language_info": {
   "codemirror_mode": {
    "name": "ipython",
    "version": 3
   },
   "file_extension": ".py",
   "mimetype": "text/x-python",
   "name": "python",
   "nbconvert_exporter": "python",
   "pygments_lexer": "ipython3",
   "version": "3.11.3"
  }
 },
 "nbformat": 4,
 "nbformat_minor": 5
}
